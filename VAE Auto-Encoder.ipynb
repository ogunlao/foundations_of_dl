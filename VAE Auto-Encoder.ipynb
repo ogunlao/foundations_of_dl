{
 "cells": [
  {
   "cell_type": "code",
   "execution_count": null,
   "metadata": {
    "colab": {},
    "colab_type": "code",
    "id": "s9xHakiuPgMj"
   },
   "outputs": [],
   "source": [
    "import torch\n",
    "import torchvision\n",
    "from torch import nn\n",
    "import torch.nn.functional as F\n",
    "from torch.utils.data import DataLoader\n",
    "from torchvision import transforms\n",
    "from torchvision.datasets import FashionMNIST\n",
    "from torch.autograd import Variable\n",
    "from matplotlib import pyplot as plt"
   ]
  },
  {
   "cell_type": "code",
   "execution_count": null,
   "metadata": {
    "colab": {},
    "colab_type": "code",
    "id": "rScNqDTJ4LHF"
   },
   "outputs": [],
   "source": []
  },
  {
   "cell_type": "code",
   "execution_count": null,
   "metadata": {
    "colab": {},
    "colab_type": "code",
    "id": "ePZlCkhVPgMt"
   },
   "outputs": [],
   "source": [
    "# Convert vector to image\n",
    "def to_img(x):\n",
    "    x = 0.5 * (x + 1)\n",
    "    x = x.view(x.size(0), 28, 28)\n",
    "    return x"
   ]
  },
  {
   "cell_type": "code",
   "execution_count": null,
   "metadata": {
    "colab": {
     "base_uri": "https://localhost:8080/",
     "height": 381,
     "referenced_widgets": [
      "1aab640e9a7348c0833e50160ee2ac04",
      "0da20d090a474474aff67a6107f5a906",
      "7533b23e39064fe39e7ca8d2c6edf6fd",
      "a33028b388fb4641be3d8b9623d83458",
      "67455c9cdc4b49d9be2b7961f57c60bf",
      "31cf6cd6acab463bb87c7048d0ca0741",
      "a2093a620fff4293badd0bf205423e9d",
      "1ea440105c5548bbb6b2c919c3e680b2",
      "914ed4cc151f431fbc586fe369946ee2",
      "53ef2dbc893d48038bfe0d57398e0bb1",
      "3a48c8d21a0144b2b683e7f0fbde4203",
      "34d2dfdb8f8d4af6a99b37e361677ddf",
      "cbf3e159b8d14fa4a9b158505b48fb6d",
      "f983f677700b4d39a6b1688f9fc7ec45",
      "db64f033ee554900943b6a2faced708f",
      "054507684b74463e8e33420e762b9413",
      "ff50d7fa3da24cf99ad66e83f0225e7a",
      "698cf1a7202943b1bc92ee483202816c",
      "b24ce17b0e034654a2492938787c6bcd",
      "29079c6cc9b74153b2fa328860060e6d",
      "5f7a9898a65a41a987f527fe59449fd6",
      "de8d5b12ba9841c4a4376b9d53c3cb79",
      "924bb36e4ad34949b2017b652f634139",
      "059a3a4dea6e4c53a401e6583f20fbb8",
      "33e5e516fa8e4128b414648a1b3b9a65",
      "681fa0d3a77b4bd0b7fc284a77f0dd37",
      "6be1b8df07a14af38fa549e259eb233d",
      "a8dd8a78c28b45fba264fc5f0a17390f",
      "cac5e00230ed45d5b6a903e01a93197e",
      "06376528d5b94212be32503acafbc598",
      "bba9588b5d75477c9448e643aa12fd64",
      "0d8fb07b70d044cd8f5ee97e65d72520"
     ]
    },
    "colab_type": "code",
    "executionInfo": {
     "elapsed": 15725,
     "status": "ok",
     "timestamp": 1583655470421,
     "user": {
      "displayName": "Sewade Ogun",
      "photoUrl": "https://lh3.googleusercontent.com/a-/AOh14GhG5qWFeH1GnV295n1cnsZvw-k7ZfMGTjWoACTv=s64",
      "userId": "02961330227233495639"
     },
     "user_tz": 0
    },
    "id": "zKcIfmi_PgM0",
    "outputId": "41fedccf-f049-4197-c449-23f976c5de23"
   },
   "outputs": [
    {
     "name": "stdout",
     "output_type": "stream",
     "text": [
      "Downloading http://fashion-mnist.s3-website.eu-central-1.amazonaws.com/train-images-idx3-ubyte.gz to ./data/FashionMNIST/raw/train-images-idx3-ubyte.gz\n"
     ]
    },
    {
     "data": {
      "application/vnd.jupyter.widget-view+json": {
       "model_id": "1aab640e9a7348c0833e50160ee2ac04",
       "version_major": 2,
       "version_minor": 0
      },
      "text/plain": [
       "HBox(children=(IntProgress(value=1, bar_style='info', max=1), HTML(value='')))"
      ]
     },
     "metadata": {
      "tags": []
     },
     "output_type": "display_data"
    },
    {
     "name": "stdout",
     "output_type": "stream",
     "text": [
      "\n",
      "Extracting ./data/FashionMNIST/raw/train-images-idx3-ubyte.gz to ./data/FashionMNIST/raw\n",
      "Downloading http://fashion-mnist.s3-website.eu-central-1.amazonaws.com/train-labels-idx1-ubyte.gz to ./data/FashionMNIST/raw/train-labels-idx1-ubyte.gz\n"
     ]
    },
    {
     "data": {
      "application/vnd.jupyter.widget-view+json": {
       "model_id": "914ed4cc151f431fbc586fe369946ee2",
       "version_major": 2,
       "version_minor": 0
      },
      "text/plain": [
       "HBox(children=(IntProgress(value=1, bar_style='info', max=1), HTML(value='')))"
      ]
     },
     "metadata": {
      "tags": []
     },
     "output_type": "display_data"
    },
    {
     "name": "stdout",
     "output_type": "stream",
     "text": [
      "\n",
      "Extracting ./data/FashionMNIST/raw/train-labels-idx1-ubyte.gz to ./data/FashionMNIST/raw\n",
      "Downloading http://fashion-mnist.s3-website.eu-central-1.amazonaws.com/t10k-images-idx3-ubyte.gz to ./data/FashionMNIST/raw/t10k-images-idx3-ubyte.gz\n"
     ]
    },
    {
     "data": {
      "application/vnd.jupyter.widget-view+json": {
       "model_id": "ff50d7fa3da24cf99ad66e83f0225e7a",
       "version_major": 2,
       "version_minor": 0
      },
      "text/plain": [
       "HBox(children=(IntProgress(value=1, bar_style='info', max=1), HTML(value='')))"
      ]
     },
     "metadata": {
      "tags": []
     },
     "output_type": "display_data"
    },
    {
     "name": "stdout",
     "output_type": "stream",
     "text": [
      "\n",
      "Extracting ./data/FashionMNIST/raw/t10k-images-idx3-ubyte.gz to ./data/FashionMNIST/raw\n",
      "Downloading http://fashion-mnist.s3-website.eu-central-1.amazonaws.com/t10k-labels-idx1-ubyte.gz to ./data/FashionMNIST/raw/t10k-labels-idx1-ubyte.gz\n"
     ]
    },
    {
     "data": {
      "application/vnd.jupyter.widget-view+json": {
       "model_id": "33e5e516fa8e4128b414648a1b3b9a65",
       "version_major": 2,
       "version_minor": 0
      },
      "text/plain": [
       "HBox(children=(IntProgress(value=1, bar_style='info', max=1), HTML(value='')))"
      ]
     },
     "metadata": {
      "tags": []
     },
     "output_type": "display_data"
    },
    {
     "name": "stdout",
     "output_type": "stream",
     "text": [
      "\n",
      "Extracting ./data/FashionMNIST/raw/t10k-labels-idx1-ubyte.gz to ./data/FashionMNIST/raw\n",
      "Processing...\n",
      "Done!\n"
     ]
    }
   ],
   "source": [
    "bs = 1000\n",
    "\n",
    "transform = transforms.Compose([transforms.ToTensor()])\n",
    "\n",
    "traindataset = FashionMNIST('./data', download=True, train=True, transform=transform)\n",
    "testdataset = FashionMNIST('./data', download=True, train=False, transform=transform)\n",
    "\n",
    "# Loaders\n",
    "trainloader = torch.utils.data.DataLoader(traindataset, batch_size=bs, shuffle=True, num_workers=4)\n",
    "testloader = torch.utils.data.DataLoader(testdataset, batch_size=bs, shuffle=False, num_workers=4)"
   ]
  },
  {
   "cell_type": "code",
   "execution_count": null,
   "metadata": {
    "colab": {},
    "colab_type": "code",
    "id": "XbhIxTktPgM5"
   },
   "outputs": [],
   "source": [
    "# Displaying routine\n",
    "def display_images(in_, out, n=1):\n",
    "    for N in range(n):\n",
    "        if in_ is not None:\n",
    "            in_pic = to_img(in_.cpu().data)\n",
    "            plt.figure(figsize=(18, 6))\n",
    "            for i in range(4):\n",
    "                plt.subplot(1,4,i+1)\n",
    "                plt.imshow(in_pic[i+4*N])\n",
    "                plt.axis('off')\n",
    "        out_pic = to_img(out.cpu().data)\n",
    "        plt.figure(figsize=(18, 6))\n",
    "        for i in range(4):\n",
    "            plt.subplot(1,4,i+1)\n",
    "            plt.imshow(out_pic[i+4*N])\n",
    "            plt.axis('off')"
   ]
  },
  {
   "cell_type": "code",
   "execution_count": null,
   "metadata": {
    "colab": {},
    "colab_type": "code",
    "id": "IBpzZn5oPgNW"
   },
   "outputs": [],
   "source": [
    "from torch.autograd import Variable\n",
    "plt.style.use('default')\n",
    "%matplotlib inline "
   ]
  },
  {
   "cell_type": "code",
   "execution_count": null,
   "metadata": {
    "colab": {},
    "colab_type": "code",
    "id": "YIaYm9LVEN54"
   },
   "outputs": [],
   "source": []
  },
  {
   "cell_type": "code",
   "execution_count": null,
   "metadata": {
    "colab": {
     "base_uri": "https://localhost:8080/",
     "height": 34
    },
    "colab_type": "code",
    "executionInfo": {
     "elapsed": 2345,
     "status": "ok",
     "timestamp": 1583513852663,
     "user": {
      "displayName": "Sewade Ogun",
      "photoUrl": "https://lh3.googleusercontent.com/a-/AOh14GhG5qWFeH1GnV295n1cnsZvw-k7ZfMGTjWoACTv=s64",
      "userId": "02961330227233495639"
     },
     "user_tz": 0
    },
    "id": "sfOkFz8nr9Bj",
    "outputId": "40aad713-fa46-454a-9963-12c86608aab2"
   },
   "outputs": [
    {
     "data": {
      "text/plain": [
       "24.0"
      ]
     },
     "execution_count": 7,
     "metadata": {
      "tags": []
     },
     "output_type": "execute_result"
    }
   ],
   "source": []
  },
  {
   "cell_type": "code",
   "execution_count": null,
   "metadata": {
    "colab": {},
    "colab_type": "code",
    "id": "MyavmEtvqQi7"
   },
   "outputs": [],
   "source": []
  },
  {
   "cell_type": "markdown",
   "metadata": {
    "colab_type": "text",
    "id": "YplSwLI0nM4W"
   },
   "source": [
    "**Variational AutoEncoder**"
   ]
  },
  {
   "cell_type": "code",
   "execution_count": null,
   "metadata": {
    "colab": {},
    "colab_type": "code",
    "id": "l6Id3NEvCgFk"
   },
   "outputs": [],
   "source": [
    "def conv_calc(size, padding, filter_, stride):\n",
    "  return (size + 2*padding - filter_)/stride + 1"
   ]
  },
  {
   "cell_type": "code",
   "execution_count": null,
   "metadata": {
    "colab": {
     "base_uri": "https://localhost:8080/",
     "height": 34
    },
    "colab_type": "code",
    "executionInfo": {
     "elapsed": 633,
     "status": "ok",
     "timestamp": 1583626036663,
     "user": {
      "displayName": "Sewade Ogun",
      "photoUrl": "https://lh3.googleusercontent.com/a-/AOh14GhG5qWFeH1GnV295n1cnsZvw-k7ZfMGTjWoACTv=s64",
      "userId": "02961330227233495639"
     },
     "user_tz": 0
    },
    "id": "SjhkCQD2CgY4",
    "outputId": "aebda78d-cd6f-4b44-e991-27a5c00b6609"
   },
   "outputs": [
    {
     "data": {
      "text/plain": [
       "28.0"
      ]
     },
     "execution_count": 7,
     "metadata": {
      "tags": []
     },
     "output_type": "execute_result"
    }
   ],
   "source": [
    "conv_calc(size=28, padding=1, filter_=3, stride=1)"
   ]
  },
  {
   "cell_type": "code",
   "execution_count": null,
   "metadata": {
    "colab": {},
    "colab_type": "code",
    "id": "VXqa2JPeDPHb"
   },
   "outputs": [],
   "source": [
    "def pad(size, filter_, stride):\n",
    "  return ((size-1)*stride + filter_ - size) / 2"
   ]
  },
  {
   "cell_type": "code",
   "execution_count": null,
   "metadata": {
    "colab": {
     "base_uri": "https://localhost:8080/",
     "height": 34
    },
    "colab_type": "code",
    "executionInfo": {
     "elapsed": 684,
     "status": "ok",
     "timestamp": 1583626038959,
     "user": {
      "displayName": "Sewade Ogun",
      "photoUrl": "https://lh3.googleusercontent.com/a-/AOh14GhG5qWFeH1GnV295n1cnsZvw-k7ZfMGTjWoACTv=s64",
      "userId": "02961330227233495639"
     },
     "user_tz": 0
    },
    "id": "1ShUKXdaDlNO",
    "outputId": "3e12edd8-9d59-428b-c07a-c1ea40fb8b81"
   },
   "outputs": [
    {
     "data": {
      "text/plain": [
       "1.0"
      ]
     },
     "execution_count": 9,
     "metadata": {
      "tags": []
     },
     "output_type": "execute_result"
    }
   ],
   "source": [
    "pad(size=28, filter_=3, stride=1)"
   ]
  },
  {
   "cell_type": "code",
   "execution_count": null,
   "metadata": {
    "colab": {},
    "colab_type": "code",
    "id": "ZlMhWdwrO5B9"
   },
   "outputs": [],
   "source": [
    "class View(nn.Module):\n",
    "  def __init__(self, shape):\n",
    "    super(View, self).__init__()\n",
    "    self.shape = shape\n",
    "\n",
    "  def forward(self, x):\n",
    "    return x.view(*self.shape)"
   ]
  },
  {
   "cell_type": "code",
   "execution_count": null,
   "metadata": {
    "colab": {},
    "colab_type": "code",
    "id": "aDfTx9sUve34"
   },
   "outputs": [],
   "source": [
    "class VarAutoEncoder(nn.Module):\n",
    "  def __init__(self, no_latent = 16):\n",
    "    super(VarAutoEncoder, self).__init__()\n",
    "    self.no_latent = no_latent\n",
    "    self.encoder = nn.Sequential(\n",
    "      nn.Conv2d(in_channels=1, out_channels=64, kernel_size=4, stride=2, padding=15),\n",
    "      nn.LeakyReLU(),\n",
    "      nn.Dropout(p=0.2, inplace=True),\n",
    "      nn.Conv2d(in_channels=64, out_channels=64, kernel_size=4, stride=2, padding=15),\n",
    "      nn.LeakyReLU(),\n",
    "      nn.Dropout(p=0.2, inplace=True),\n",
    "      nn.Conv2d(in_channels=64, out_channels=64, kernel_size=3, stride=1, padding=1),\n",
    "      nn.LeakyReLU(),\n",
    "      nn.Dropout(p=0.2, inplace=True)\n",
    "      )\n",
    "\n",
    "    self.linear1 = nn.Linear(in_features=(28*28*64), out_features=self.no_latent, bias=True)\n",
    "    self.linear2 = nn.Linear(in_features=(28*28*64), out_features=self.no_latent, bias=True)\n",
    "     \n",
    "    self.decoder = nn.Sequential(\n",
    "      nn.Linear(in_features=self.no_latent, out_features=1000, bias=True),\n",
    "      nn.LeakyReLU(),\n",
    "      nn.Linear(in_features=1000, out_features=(28*28*64), bias=True),\n",
    "      nn.LeakyReLU(),\n",
    "      # nn.Linear(in_features=self.no_latent, out_features=inputs_decoder * 2 + 1, bias=True),\n",
    "      # nn.LeakyReLU(),\n",
    "      View((-1, 64, 28, 28)),\n",
    "      nn.ConvTranspose2d(in_channels=64, out_channels=64, kernel_size=3, stride=1, padding=1),\n",
    "      nn.LeakyReLU(),\n",
    "      nn.Dropout(p=0.2, inplace=True),\n",
    "      nn.ConvTranspose2d(in_channels=64, out_channels=64, kernel_size=4, stride=2, padding=15),\n",
    "      nn.ReLU(),\n",
    "      nn.Dropout(p=0.2, inplace=True),\n",
    "      nn.ConvTranspose2d(in_channels=64, out_channels=1, kernel_size=4, stride=2, padding=15),\n",
    "      # nn.ReLU(),\n",
    "      # nn.Flatten(),\n",
    "      # nn.Linear(in_features=64, out_features=28*28, bias=True),\n",
    "      nn.Sigmoid()\n",
    "      )\n",
    "\n",
    "  def reparameterize(self, mu, logvar):\n",
    "    std = torch.exp(0.5*logvar)\n",
    "    eps = torch.randn_like(std)\n",
    "    return mu + eps*std\n",
    "\n",
    "  \n",
    "  def forward(self, x):\n",
    "    x = self.encoder(x)\n",
    "    mu = self.linear1(x.view(-1, 28*28*64))\n",
    "    logvar = self.linear2(x.view(-1, 28*28*64))\n",
    "\n",
    "    z = self.reparameterize(mu, logvar)\n",
    "    x = self.decoder(z.view(-1, self.no_latent))\n",
    "    #x = x.view(-1, 28, 28)\n",
    "    return x, mu, logvar"
   ]
  },
  {
   "cell_type": "code",
   "execution_count": null,
   "metadata": {
    "colab": {},
    "colab_type": "code",
    "id": "eWw3UsMWfOU1"
   },
   "outputs": [],
   "source": [
    "ngf = 64\n",
    "ndf = 64\n",
    "nc = 1\n",
    "\n",
    "class VAE(nn.Module):\n",
    "    def __init__(self, nz):\n",
    "        super(VAE, self).__init__()\n",
    "\n",
    "        self.have_cuda = False\n",
    "        self.nz = nz\n",
    "\n",
    "        self.encoder = nn.Sequential(\n",
    "            # input is (nc) x 28 x 28\n",
    "            nn.Conv2d(nc, ndf, 4, 2, 1, bias=False),\n",
    "            nn.LeakyReLU(0.2, inplace=True),\n",
    "            # state size. (ndf) x 14 x 14\n",
    "            nn.Conv2d(ndf, ndf * 2, 4, 2, 1, bias=False),\n",
    "            nn.BatchNorm2d(ndf * 2),\n",
    "            nn.LeakyReLU(0.2, inplace=True),\n",
    "            # state size. (ndf*2) x 7 x 7\n",
    "            nn.Conv2d(ndf * 2, ndf * 4, 3, 2, 1, bias=False),\n",
    "            nn.BatchNorm2d(ndf * 4),\n",
    "            nn.LeakyReLU(0.2, inplace=True),\n",
    "            # state size. (ndf*4) x 4 x 4\n",
    "            nn.Conv2d(ndf * 4, 1024, 4, 1, 0, bias=False),\n",
    "            # nn.BatchNorm2d(1024),\n",
    "            nn.LeakyReLU(0.2, inplace=True),\n",
    "            # nn.Sigmoid()\n",
    "        )\n",
    "\n",
    "        self.decoder = nn.Sequential(\n",
    "            # input is Z, going into a convolution\n",
    "            nn.ConvTranspose2d(     1024, ngf * 8, 4, 1, 0, bias=False),\n",
    "            nn.BatchNorm2d(ngf * 8),\n",
    "            nn.ReLU(True),\n",
    "            # state size. (ngf*8) x 4 x 4\n",
    "            nn.ConvTranspose2d(ngf * 8, ngf * 4, 3, 2, 1, bias=False),\n",
    "            nn.BatchNorm2d(ngf * 4),\n",
    "            nn.ReLU(True),\n",
    "            # state size. (ngf*4) x 8 x 8\n",
    "            nn.ConvTranspose2d(ngf * 4, ngf * 2, 4, 2, 1, bias=False),\n",
    "            nn.BatchNorm2d(ngf * 2),\n",
    "            nn.ReLU(True),\n",
    "            # state size. (ngf*2) x 16 x 16\n",
    "            nn.ConvTranspose2d(ngf * 2,     nc, 4, 2, 1, bias=False),\n",
    "            # nn.BatchNorm2d(ngf),\n",
    "            # nn.ReLU(True),\n",
    "            # state size. (ngf) x 32 x 32\n",
    "            # nn.ConvTranspose2d(    ngf,      nc, 4, 2, 1, bias=False),\n",
    "            # nn.Tanh()\n",
    "            nn.Sigmoid()\n",
    "            # state size. (nc) x 64 x 64\n",
    "        )\n",
    "\n",
    "        self.fc1 = nn.Linear(1024, 512)\n",
    "        self.fc21 = nn.Linear(512, nz)\n",
    "        self.fc22 = nn.Linear(512, nz)\n",
    "\n",
    "        self.fc3 = nn.Linear(nz, 512)\n",
    "        self.fc4 = nn.Linear(512, 1024)\n",
    "\n",
    "        self.lrelu = nn.LeakyReLU()\n",
    "        self.relu = nn.ReLU()\n",
    "        # self.sigmoid = nn.Sigmoid()\n",
    "\n",
    "    def encode(self, x):\n",
    "        conv = self.encoder(x);\n",
    "        # print(\"encode conv\", conv.size())\n",
    "        h1 = self.fc1(conv.view(-1, 1024))\n",
    "        # print(\"encode h1\", h1.size())\n",
    "        return self.fc21(h1), self.fc22(h1)\n",
    "\n",
    "    def decode(self, z):\n",
    "        h3 = self.relu(self.fc3(z))\n",
    "        deconv_input = self.fc4(h3)\n",
    "        # print(\"deconv_input\", deconv_input.size())\n",
    "        deconv_input = deconv_input.view(-1,1024,1,1)\n",
    "        # print(\"deconv_input\", deconv_input.size())\n",
    "        return self.decoder(deconv_input)\n",
    "\n",
    "    def reparametrize(self, mu, logvar):\n",
    "        std = logvar.mul(0.5).exp_()\n",
    "        eps = torch.randn_like(std)\n",
    "        return eps.mul(std).add_(mu)\n",
    "\n",
    "    def forward(self, x):\n",
    "        # print(\"x\", x.size())\n",
    "        mu, logvar = self.encode(x)\n",
    "        # print(\"mu, logvar\", mu.size(), logvar.size())\n",
    "        z = self.reparametrize(mu, logvar)\n",
    "        # print(\"z\", z.size())\n",
    "        decoded = self.decode(z)\n",
    "        # print(\"decoded\", decoded.size())\n",
    "        return decoded, mu, logvar"
   ]
  },
  {
   "cell_type": "code",
   "execution_count": null,
   "metadata": {
    "colab": {},
    "colab_type": "code",
    "id": "KCBa5klMvQxa"
   },
   "outputs": [],
   "source": [
    "device = torch.device(\"cuda\" if torch.cuda.is_available() else \"cpu\")\n",
    "#model_vae = VAE(20).to(device)\n",
    "model_vae = VarAutoEncoder().to(device)"
   ]
  },
  {
   "cell_type": "code",
   "execution_count": null,
   "metadata": {
    "colab": {
     "base_uri": "https://localhost:8080/",
     "height": 525
    },
    "colab_type": "code",
    "executionInfo": {
     "elapsed": 1768,
     "status": "ok",
     "timestamp": 1583657326808,
     "user": {
      "displayName": "Sewade Ogun",
      "photoUrl": "https://lh3.googleusercontent.com/a-/AOh14GhG5qWFeH1GnV295n1cnsZvw-k7ZfMGTjWoACTv=s64",
      "userId": "02961330227233495639"
     },
     "user_tz": 0
    },
    "id": "ExaacaB_5NTk",
    "outputId": "d831e9d7-2f71-48d1-f8ca-84d909eb36e9"
   },
   "outputs": [
    {
     "data": {
      "text/plain": [
       "VarAutoEncoder(\n",
       "  (encoder): Sequential(\n",
       "    (0): Conv2d(1, 64, kernel_size=(4, 4), stride=(2, 2), padding=(15, 15))\n",
       "    (1): LeakyReLU(negative_slope=0.01)\n",
       "    (2): Dropout(p=0.2, inplace=True)\n",
       "    (3): Conv2d(64, 64, kernel_size=(4, 4), stride=(2, 2), padding=(15, 15))\n",
       "    (4): LeakyReLU(negative_slope=0.01)\n",
       "    (5): Dropout(p=0.2, inplace=True)\n",
       "    (6): Conv2d(64, 64, kernel_size=(3, 3), stride=(1, 1), padding=(1, 1))\n",
       "    (7): LeakyReLU(negative_slope=0.01)\n",
       "    (8): Dropout(p=0.2, inplace=True)\n",
       "  )\n",
       "  (linear1): Linear(in_features=50176, out_features=16, bias=True)\n",
       "  (linear2): Linear(in_features=50176, out_features=16, bias=True)\n",
       "  (decoder): Sequential(\n",
       "    (0): Linear(in_features=16, out_features=1000, bias=True)\n",
       "    (1): LeakyReLU(negative_slope=0.01)\n",
       "    (2): Linear(in_features=1000, out_features=50176, bias=True)\n",
       "    (3): LeakyReLU(negative_slope=0.01)\n",
       "    (4): View()\n",
       "    (5): ConvTranspose2d(64, 64, kernel_size=(3, 3), stride=(1, 1), padding=(1, 1))\n",
       "    (6): LeakyReLU(negative_slope=0.01)\n",
       "    (7): Dropout(p=0.2, inplace=True)\n",
       "    (8): ConvTranspose2d(64, 64, kernel_size=(4, 4), stride=(2, 2), padding=(15, 15))\n",
       "    (9): ReLU()\n",
       "    (10): Dropout(p=0.2, inplace=True)\n",
       "    (11): ConvTranspose2d(64, 1, kernel_size=(4, 4), stride=(2, 2), padding=(15, 15))\n",
       "    (12): Sigmoid()\n",
       "  )\n",
       ")"
      ]
     },
     "execution_count": 31,
     "metadata": {
      "tags": []
     },
     "output_type": "execute_result"
    }
   ],
   "source": [
    "model_vae"
   ]
  },
  {
   "cell_type": "code",
   "execution_count": null,
   "metadata": {
    "colab": {},
    "colab_type": "code",
    "id": "8t9C8o_PvSNb"
   },
   "outputs": [],
   "source": [
    "# Configure the optimizer and criterion\n",
    "learning_rate = 1e-5\n",
    "optimizer = torch.optim.Adam(model_vae.parameters(), lr=learning_rate)"
   ]
  },
  {
   "cell_type": "code",
   "execution_count": null,
   "metadata": {
    "colab": {},
    "colab_type": "code",
    "id": "xFkVyf3p93FN"
   },
   "outputs": [],
   "source": [
    "def loss_fun(x, x_bar, mu, logvar):\n",
    "    BCE_loss = nn.BCELoss(reduction='sum')(x_bar, x)\n",
    "    KLD = - 0.5 * torch.sum(1 + logvar - mu.pow(2) - logvar.exp())\n",
    "    return BCE_loss + KLD\n",
    "\n",
    "# # Reconstruction + KL divergence losses summed over all elements and batch\n",
    "# def loss_fun(recon_x, x, mu, logvar):\n",
    "#     # print(recon_x.size(), x.size())\n",
    "#     BCE = F.binary_cross_entropy(recon_x.view(-1, 784), x.view(-1, 784), size_average=False)\n",
    "#     # see Appendix B from VAE paper:\n",
    "#     # Kingma and Welling. Auto-Encoding Variational Bayes. ICLR, 2014\n",
    "#     # https://arxiv.org/abs/1312.6114\n",
    "#     # 0.5 * sum(1 + log(sigma^2) - mu^2 - sigma^2)\n",
    "#     KLD = -0.5 * torch.sum(1 + logvar - mu.pow(2) - logvar.exp())\n",
    "#     # return BCE + KLD\n",
    "#     return BCE + 3 * KLD"
   ]
  },
  {
   "cell_type": "code",
   "execution_count": null,
   "metadata": {
    "colab": {
     "base_uri": "https://localhost:8080/",
     "height": 1000
    },
    "colab_type": "code",
    "executionInfo": {
     "elapsed": 6882501,
     "status": "error",
     "timestamp": 1583664209512,
     "user": {
      "displayName": "Sewade Ogun",
      "photoUrl": "https://lh3.googleusercontent.com/a-/AOh14GhG5qWFeH1GnV295n1cnsZvw-k7ZfMGTjWoACTv=s64",
      "userId": "02961330227233495639"
     },
     "user_tz": 0
    },
    "id": "FaH4cARfx1zO",
    "outputId": "ad4356b5-80a5-4e59-c89e-10b2ce41b85d"
   },
   "outputs": [],
   "source": [
    "num_epochs = 1000\n",
    "\n",
    "for epoch in range(num_epochs):\n",
    "    for data in trainloader:\n",
    "        img, _ = data\n",
    "        img = img.to(device)\n",
    "        x_bar, mu, logvar = model_vae(img)\n",
    "        loss = loss_fun(img.data, x_bar.data, mu, logvar)\n",
    "        optimizer.zero_grad()\n",
    "        loss.backward()\n",
    "        optimizer.step()\n",
    "    # ===================log========================\n",
    "    print(f'epoch [{epoch + 1}/{num_epochs}], loss:{loss.item():.4f}')\n",
    "    if epoch % 500 == 0:\n",
    "      display_images(None, x_bar)"
   ]
  },
  {
   "cell_type": "code",
   "execution_count": null,
   "metadata": {
    "colab": {
     "base_uri": "https://localhost:8080/",
     "height": 318
    },
    "colab_type": "code",
    "executionInfo": {
     "elapsed": 3359,
     "status": "ok",
     "timestamp": 1583664220415,
     "user": {
      "displayName": "Sewade Ogun",
      "photoUrl": "https://lh3.googleusercontent.com/a-/AOh14GhG5qWFeH1GnV295n1cnsZvw-k7ZfMGTjWoACTv=s64",
      "userId": "02961330227233495639"
     },
     "user_tz": 0
    },
    "id": "VRU7zopUKpYj",
    "outputId": "e90448e4-cab3-4d5b-eba8-13269f17ae5d"
   },
   "outputs": [],
   "source": [
    "model_vae.eval()\n",
    "\n",
    "test_images, labels = next(iter(testloader))\n",
    "\n",
    "test_images = test_images.to(device)\n",
    "\n",
    "x_bar, mu, sigma = model_vae(test_images)\n",
    "\n",
    "inp = test_images.view(-1, 28, 28)\n",
    "\n",
    "out_conv = x_bar.reshape(-1, 28, 28)\n",
    "\n",
    "\n",
    "fig = plt.figure(figsize=(10, 50), )\n",
    "# fig.tight_layout(pad=10)\n",
    "\n",
    "plot = fig.add_subplot(1, 2, 1)\n",
    "plot.set_title('Original Image')\n",
    "imgplot = plt.imshow(inp[0].cpu(), cmap='gray')\n",
    "\n",
    "plot = fig.add_subplot(1, 2, 2)\n",
    "plot.set_title('VAE Image')\n",
    "imgplot = plt.imshow(out_conv[0].cpu().detach(), cmap='gray')\n",
    "plt.show()"
   ]
  },
  {
   "cell_type": "code",
   "execution_count": null,
   "metadata": {
    "colab": {},
    "colab_type": "code",
    "id": "VFhat0j6JNep"
   },
   "outputs": [],
   "source": []
  },
  {
   "cell_type": "code",
   "execution_count": null,
   "metadata": {
    "colab": {},
    "colab_type": "code",
    "id": "tE-ro02pOjrq"
   },
   "outputs": [],
   "source": []
  }
 ],
 "metadata": {
  "accelerator": "GPU",
  "colab": {
   "collapsed_sections": [],
   "name": "VAE Auto-Encoder Practice.ipynb",
   "provenance": [
    {
     "file_id": "1aqgMYtgx4UJ6KGGfPmOrB7NkfGCLmeGY",
     "timestamp": 1583613462703
    },
    {
     "file_id": "1OORV5hrx55K4IVpXYlEkd6BUDlbGV17J",
     "timestamp": 1583320283278
    }
   ]
  },
  "kernelspec": {
   "display_name": "Python 3",
   "language": "python",
   "name": "python3"
  },
  "language_info": {
   "codemirror_mode": {
    "name": "ipython",
    "version": 3
   },
   "file_extension": ".py",
   "mimetype": "text/x-python",
   "name": "python",
   "nbconvert_exporter": "python",
   "pygments_lexer": "ipython3",
   "version": "3.7.3"
  },
  "widgets": {
   "application/vnd.jupyter.widget-state+json": {
    "054507684b74463e8e33420e762b9413": {
     "model_module": "@jupyter-widgets/base",
     "model_name": "LayoutModel",
     "state": {
      "_model_module": "@jupyter-widgets/base",
      "_model_module_version": "1.2.0",
      "_model_name": "LayoutModel",
      "_view_count": null,
      "_view_module": "@jupyter-widgets/base",
      "_view_module_version": "1.2.0",
      "_view_name": "LayoutView",
      "align_content": null,
      "align_items": null,
      "align_self": null,
      "border": null,
      "bottom": null,
      "display": null,
      "flex": null,
      "flex_flow": null,
      "grid_area": null,
      "grid_auto_columns": null,
      "grid_auto_flow": null,
      "grid_auto_rows": null,
      "grid_column": null,
      "grid_gap": null,
      "grid_row": null,
      "grid_template_areas": null,
      "grid_template_columns": null,
      "grid_template_rows": null,
      "height": null,
      "justify_content": null,
      "justify_items": null,
      "left": null,
      "margin": null,
      "max_height": null,
      "max_width": null,
      "min_height": null,
      "min_width": null,
      "object_fit": null,
      "object_position": null,
      "order": null,
      "overflow": null,
      "overflow_x": null,
      "overflow_y": null,
      "padding": null,
      "right": null,
      "top": null,
      "visibility": null,
      "width": null
     }
    },
    "059a3a4dea6e4c53a401e6583f20fbb8": {
     "model_module": "@jupyter-widgets/base",
     "model_name": "LayoutModel",
     "state": {
      "_model_module": "@jupyter-widgets/base",
      "_model_module_version": "1.2.0",
      "_model_name": "LayoutModel",
      "_view_count": null,
      "_view_module": "@jupyter-widgets/base",
      "_view_module_version": "1.2.0",
      "_view_name": "LayoutView",
      "align_content": null,
      "align_items": null,
      "align_self": null,
      "border": null,
      "bottom": null,
      "display": null,
      "flex": null,
      "flex_flow": null,
      "grid_area": null,
      "grid_auto_columns": null,
      "grid_auto_flow": null,
      "grid_auto_rows": null,
      "grid_column": null,
      "grid_gap": null,
      "grid_row": null,
      "grid_template_areas": null,
      "grid_template_columns": null,
      "grid_template_rows": null,
      "height": null,
      "justify_content": null,
      "justify_items": null,
      "left": null,
      "margin": null,
      "max_height": null,
      "max_width": null,
      "min_height": null,
      "min_width": null,
      "object_fit": null,
      "object_position": null,
      "order": null,
      "overflow": null,
      "overflow_x": null,
      "overflow_y": null,
      "padding": null,
      "right": null,
      "top": null,
      "visibility": null,
      "width": null
     }
    },
    "06376528d5b94212be32503acafbc598": {
     "model_module": "@jupyter-widgets/base",
     "model_name": "LayoutModel",
     "state": {
      "_model_module": "@jupyter-widgets/base",
      "_model_module_version": "1.2.0",
      "_model_name": "LayoutModel",
      "_view_count": null,
      "_view_module": "@jupyter-widgets/base",
      "_view_module_version": "1.2.0",
      "_view_name": "LayoutView",
      "align_content": null,
      "align_items": null,
      "align_self": null,
      "border": null,
      "bottom": null,
      "display": null,
      "flex": null,
      "flex_flow": null,
      "grid_area": null,
      "grid_auto_columns": null,
      "grid_auto_flow": null,
      "grid_auto_rows": null,
      "grid_column": null,
      "grid_gap": null,
      "grid_row": null,
      "grid_template_areas": null,
      "grid_template_columns": null,
      "grid_template_rows": null,
      "height": null,
      "justify_content": null,
      "justify_items": null,
      "left": null,
      "margin": null,
      "max_height": null,
      "max_width": null,
      "min_height": null,
      "min_width": null,
      "object_fit": null,
      "object_position": null,
      "order": null,
      "overflow": null,
      "overflow_x": null,
      "overflow_y": null,
      "padding": null,
      "right": null,
      "top": null,
      "visibility": null,
      "width": null
     }
    },
    "0d8fb07b70d044cd8f5ee97e65d72520": {
     "model_module": "@jupyter-widgets/base",
     "model_name": "LayoutModel",
     "state": {
      "_model_module": "@jupyter-widgets/base",
      "_model_module_version": "1.2.0",
      "_model_name": "LayoutModel",
      "_view_count": null,
      "_view_module": "@jupyter-widgets/base",
      "_view_module_version": "1.2.0",
      "_view_name": "LayoutView",
      "align_content": null,
      "align_items": null,
      "align_self": null,
      "border": null,
      "bottom": null,
      "display": null,
      "flex": null,
      "flex_flow": null,
      "grid_area": null,
      "grid_auto_columns": null,
      "grid_auto_flow": null,
      "grid_auto_rows": null,
      "grid_column": null,
      "grid_gap": null,
      "grid_row": null,
      "grid_template_areas": null,
      "grid_template_columns": null,
      "grid_template_rows": null,
      "height": null,
      "justify_content": null,
      "justify_items": null,
      "left": null,
      "margin": null,
      "max_height": null,
      "max_width": null,
      "min_height": null,
      "min_width": null,
      "object_fit": null,
      "object_position": null,
      "order": null,
      "overflow": null,
      "overflow_x": null,
      "overflow_y": null,
      "padding": null,
      "right": null,
      "top": null,
      "visibility": null,
      "width": null
     }
    },
    "0da20d090a474474aff67a6107f5a906": {
     "model_module": "@jupyter-widgets/base",
     "model_name": "LayoutModel",
     "state": {
      "_model_module": "@jupyter-widgets/base",
      "_model_module_version": "1.2.0",
      "_model_name": "LayoutModel",
      "_view_count": null,
      "_view_module": "@jupyter-widgets/base",
      "_view_module_version": "1.2.0",
      "_view_name": "LayoutView",
      "align_content": null,
      "align_items": null,
      "align_self": null,
      "border": null,
      "bottom": null,
      "display": null,
      "flex": null,
      "flex_flow": null,
      "grid_area": null,
      "grid_auto_columns": null,
      "grid_auto_flow": null,
      "grid_auto_rows": null,
      "grid_column": null,
      "grid_gap": null,
      "grid_row": null,
      "grid_template_areas": null,
      "grid_template_columns": null,
      "grid_template_rows": null,
      "height": null,
      "justify_content": null,
      "justify_items": null,
      "left": null,
      "margin": null,
      "max_height": null,
      "max_width": null,
      "min_height": null,
      "min_width": null,
      "object_fit": null,
      "object_position": null,
      "order": null,
      "overflow": null,
      "overflow_x": null,
      "overflow_y": null,
      "padding": null,
      "right": null,
      "top": null,
      "visibility": null,
      "width": null
     }
    },
    "1aab640e9a7348c0833e50160ee2ac04": {
     "model_module": "@jupyter-widgets/controls",
     "model_name": "HBoxModel",
     "state": {
      "_dom_classes": [],
      "_model_module": "@jupyter-widgets/controls",
      "_model_module_version": "1.5.0",
      "_model_name": "HBoxModel",
      "_view_count": null,
      "_view_module": "@jupyter-widgets/controls",
      "_view_module_version": "1.5.0",
      "_view_name": "HBoxView",
      "box_style": "",
      "children": [
       "IPY_MODEL_7533b23e39064fe39e7ca8d2c6edf6fd",
       "IPY_MODEL_a33028b388fb4641be3d8b9623d83458"
      ],
      "layout": "IPY_MODEL_0da20d090a474474aff67a6107f5a906"
     }
    },
    "1ea440105c5548bbb6b2c919c3e680b2": {
     "model_module": "@jupyter-widgets/base",
     "model_name": "LayoutModel",
     "state": {
      "_model_module": "@jupyter-widgets/base",
      "_model_module_version": "1.2.0",
      "_model_name": "LayoutModel",
      "_view_count": null,
      "_view_module": "@jupyter-widgets/base",
      "_view_module_version": "1.2.0",
      "_view_name": "LayoutView",
      "align_content": null,
      "align_items": null,
      "align_self": null,
      "border": null,
      "bottom": null,
      "display": null,
      "flex": null,
      "flex_flow": null,
      "grid_area": null,
      "grid_auto_columns": null,
      "grid_auto_flow": null,
      "grid_auto_rows": null,
      "grid_column": null,
      "grid_gap": null,
      "grid_row": null,
      "grid_template_areas": null,
      "grid_template_columns": null,
      "grid_template_rows": null,
      "height": null,
      "justify_content": null,
      "justify_items": null,
      "left": null,
      "margin": null,
      "max_height": null,
      "max_width": null,
      "min_height": null,
      "min_width": null,
      "object_fit": null,
      "object_position": null,
      "order": null,
      "overflow": null,
      "overflow_x": null,
      "overflow_y": null,
      "padding": null,
      "right": null,
      "top": null,
      "visibility": null,
      "width": null
     }
    },
    "29079c6cc9b74153b2fa328860060e6d": {
     "model_module": "@jupyter-widgets/controls",
     "model_name": "HTMLModel",
     "state": {
      "_dom_classes": [],
      "_model_module": "@jupyter-widgets/controls",
      "_model_module_version": "1.5.0",
      "_model_name": "HTMLModel",
      "_view_count": null,
      "_view_module": "@jupyter-widgets/controls",
      "_view_module_version": "1.5.0",
      "_view_name": "HTMLView",
      "description": "",
      "description_tooltip": null,
      "layout": "IPY_MODEL_059a3a4dea6e4c53a401e6583f20fbb8",
      "placeholder": "​",
      "style": "IPY_MODEL_924bb36e4ad34949b2017b652f634139",
      "value": "4423680it [00:02, 1493560.51it/s]"
     }
    },
    "31cf6cd6acab463bb87c7048d0ca0741": {
     "model_module": "@jupyter-widgets/base",
     "model_name": "LayoutModel",
     "state": {
      "_model_module": "@jupyter-widgets/base",
      "_model_module_version": "1.2.0",
      "_model_name": "LayoutModel",
      "_view_count": null,
      "_view_module": "@jupyter-widgets/base",
      "_view_module_version": "1.2.0",
      "_view_name": "LayoutView",
      "align_content": null,
      "align_items": null,
      "align_self": null,
      "border": null,
      "bottom": null,
      "display": null,
      "flex": null,
      "flex_flow": null,
      "grid_area": null,
      "grid_auto_columns": null,
      "grid_auto_flow": null,
      "grid_auto_rows": null,
      "grid_column": null,
      "grid_gap": null,
      "grid_row": null,
      "grid_template_areas": null,
      "grid_template_columns": null,
      "grid_template_rows": null,
      "height": null,
      "justify_content": null,
      "justify_items": null,
      "left": null,
      "margin": null,
      "max_height": null,
      "max_width": null,
      "min_height": null,
      "min_width": null,
      "object_fit": null,
      "object_position": null,
      "order": null,
      "overflow": null,
      "overflow_x": null,
      "overflow_y": null,
      "padding": null,
      "right": null,
      "top": null,
      "visibility": null,
      "width": null
     }
    },
    "33e5e516fa8e4128b414648a1b3b9a65": {
     "model_module": "@jupyter-widgets/controls",
     "model_name": "HBoxModel",
     "state": {
      "_dom_classes": [],
      "_model_module": "@jupyter-widgets/controls",
      "_model_module_version": "1.5.0",
      "_model_name": "HBoxModel",
      "_view_count": null,
      "_view_module": "@jupyter-widgets/controls",
      "_view_module_version": "1.5.0",
      "_view_name": "HBoxView",
      "box_style": "",
      "children": [
       "IPY_MODEL_6be1b8df07a14af38fa549e259eb233d",
       "IPY_MODEL_a8dd8a78c28b45fba264fc5f0a17390f"
      ],
      "layout": "IPY_MODEL_681fa0d3a77b4bd0b7fc284a77f0dd37"
     }
    },
    "34d2dfdb8f8d4af6a99b37e361677ddf": {
     "model_module": "@jupyter-widgets/controls",
     "model_name": "HTMLModel",
     "state": {
      "_dom_classes": [],
      "_model_module": "@jupyter-widgets/controls",
      "_model_module_version": "1.5.0",
      "_model_name": "HTMLModel",
      "_view_count": null,
      "_view_module": "@jupyter-widgets/controls",
      "_view_module_version": "1.5.0",
      "_view_name": "HTMLView",
      "description": "",
      "description_tooltip": null,
      "layout": "IPY_MODEL_054507684b74463e8e33420e762b9413",
      "placeholder": "​",
      "style": "IPY_MODEL_db64f033ee554900943b6a2faced708f",
      "value": "32768it [00:00, 34858.95it/s]"
     }
    },
    "3a48c8d21a0144b2b683e7f0fbde4203": {
     "model_module": "@jupyter-widgets/controls",
     "model_name": "IntProgressModel",
     "state": {
      "_dom_classes": [],
      "_model_module": "@jupyter-widgets/controls",
      "_model_module_version": "1.5.0",
      "_model_name": "IntProgressModel",
      "_view_count": null,
      "_view_module": "@jupyter-widgets/controls",
      "_view_module_version": "1.5.0",
      "_view_name": "ProgressView",
      "bar_style": "success",
      "description": "",
      "description_tooltip": null,
      "layout": "IPY_MODEL_f983f677700b4d39a6b1688f9fc7ec45",
      "max": 1,
      "min": 0,
      "orientation": "horizontal",
      "style": "IPY_MODEL_cbf3e159b8d14fa4a9b158505b48fb6d",
      "value": 1
     }
    },
    "53ef2dbc893d48038bfe0d57398e0bb1": {
     "model_module": "@jupyter-widgets/base",
     "model_name": "LayoutModel",
     "state": {
      "_model_module": "@jupyter-widgets/base",
      "_model_module_version": "1.2.0",
      "_model_name": "LayoutModel",
      "_view_count": null,
      "_view_module": "@jupyter-widgets/base",
      "_view_module_version": "1.2.0",
      "_view_name": "LayoutView",
      "align_content": null,
      "align_items": null,
      "align_self": null,
      "border": null,
      "bottom": null,
      "display": null,
      "flex": null,
      "flex_flow": null,
      "grid_area": null,
      "grid_auto_columns": null,
      "grid_auto_flow": null,
      "grid_auto_rows": null,
      "grid_column": null,
      "grid_gap": null,
      "grid_row": null,
      "grid_template_areas": null,
      "grid_template_columns": null,
      "grid_template_rows": null,
      "height": null,
      "justify_content": null,
      "justify_items": null,
      "left": null,
      "margin": null,
      "max_height": null,
      "max_width": null,
      "min_height": null,
      "min_width": null,
      "object_fit": null,
      "object_position": null,
      "order": null,
      "overflow": null,
      "overflow_x": null,
      "overflow_y": null,
      "padding": null,
      "right": null,
      "top": null,
      "visibility": null,
      "width": null
     }
    },
    "5f7a9898a65a41a987f527fe59449fd6": {
     "model_module": "@jupyter-widgets/controls",
     "model_name": "ProgressStyleModel",
     "state": {
      "_model_module": "@jupyter-widgets/controls",
      "_model_module_version": "1.5.0",
      "_model_name": "ProgressStyleModel",
      "_view_count": null,
      "_view_module": "@jupyter-widgets/base",
      "_view_module_version": "1.2.0",
      "_view_name": "StyleView",
      "bar_color": null,
      "description_width": ""
     }
    },
    "67455c9cdc4b49d9be2b7961f57c60bf": {
     "model_module": "@jupyter-widgets/controls",
     "model_name": "ProgressStyleModel",
     "state": {
      "_model_module": "@jupyter-widgets/controls",
      "_model_module_version": "1.5.0",
      "_model_name": "ProgressStyleModel",
      "_view_count": null,
      "_view_module": "@jupyter-widgets/base",
      "_view_module_version": "1.2.0",
      "_view_name": "StyleView",
      "bar_color": null,
      "description_width": ""
     }
    },
    "681fa0d3a77b4bd0b7fc284a77f0dd37": {
     "model_module": "@jupyter-widgets/base",
     "model_name": "LayoutModel",
     "state": {
      "_model_module": "@jupyter-widgets/base",
      "_model_module_version": "1.2.0",
      "_model_name": "LayoutModel",
      "_view_count": null,
      "_view_module": "@jupyter-widgets/base",
      "_view_module_version": "1.2.0",
      "_view_name": "LayoutView",
      "align_content": null,
      "align_items": null,
      "align_self": null,
      "border": null,
      "bottom": null,
      "display": null,
      "flex": null,
      "flex_flow": null,
      "grid_area": null,
      "grid_auto_columns": null,
      "grid_auto_flow": null,
      "grid_auto_rows": null,
      "grid_column": null,
      "grid_gap": null,
      "grid_row": null,
      "grid_template_areas": null,
      "grid_template_columns": null,
      "grid_template_rows": null,
      "height": null,
      "justify_content": null,
      "justify_items": null,
      "left": null,
      "margin": null,
      "max_height": null,
      "max_width": null,
      "min_height": null,
      "min_width": null,
      "object_fit": null,
      "object_position": null,
      "order": null,
      "overflow": null,
      "overflow_x": null,
      "overflow_y": null,
      "padding": null,
      "right": null,
      "top": null,
      "visibility": null,
      "width": null
     }
    },
    "698cf1a7202943b1bc92ee483202816c": {
     "model_module": "@jupyter-widgets/base",
     "model_name": "LayoutModel",
     "state": {
      "_model_module": "@jupyter-widgets/base",
      "_model_module_version": "1.2.0",
      "_model_name": "LayoutModel",
      "_view_count": null,
      "_view_module": "@jupyter-widgets/base",
      "_view_module_version": "1.2.0",
      "_view_name": "LayoutView",
      "align_content": null,
      "align_items": null,
      "align_self": null,
      "border": null,
      "bottom": null,
      "display": null,
      "flex": null,
      "flex_flow": null,
      "grid_area": null,
      "grid_auto_columns": null,
      "grid_auto_flow": null,
      "grid_auto_rows": null,
      "grid_column": null,
      "grid_gap": null,
      "grid_row": null,
      "grid_template_areas": null,
      "grid_template_columns": null,
      "grid_template_rows": null,
      "height": null,
      "justify_content": null,
      "justify_items": null,
      "left": null,
      "margin": null,
      "max_height": null,
      "max_width": null,
      "min_height": null,
      "min_width": null,
      "object_fit": null,
      "object_position": null,
      "order": null,
      "overflow": null,
      "overflow_x": null,
      "overflow_y": null,
      "padding": null,
      "right": null,
      "top": null,
      "visibility": null,
      "width": null
     }
    },
    "6be1b8df07a14af38fa549e259eb233d": {
     "model_module": "@jupyter-widgets/controls",
     "model_name": "IntProgressModel",
     "state": {
      "_dom_classes": [],
      "_model_module": "@jupyter-widgets/controls",
      "_model_module_version": "1.5.0",
      "_model_name": "IntProgressModel",
      "_view_count": null,
      "_view_module": "@jupyter-widgets/controls",
      "_view_module_version": "1.5.0",
      "_view_name": "ProgressView",
      "bar_style": "success",
      "description": "",
      "description_tooltip": null,
      "layout": "IPY_MODEL_06376528d5b94212be32503acafbc598",
      "max": 1,
      "min": 0,
      "orientation": "horizontal",
      "style": "IPY_MODEL_cac5e00230ed45d5b6a903e01a93197e",
      "value": 1
     }
    },
    "7533b23e39064fe39e7ca8d2c6edf6fd": {
     "model_module": "@jupyter-widgets/controls",
     "model_name": "IntProgressModel",
     "state": {
      "_dom_classes": [],
      "_model_module": "@jupyter-widgets/controls",
      "_model_module_version": "1.5.0",
      "_model_name": "IntProgressModel",
      "_view_count": null,
      "_view_module": "@jupyter-widgets/controls",
      "_view_module_version": "1.5.0",
      "_view_name": "ProgressView",
      "bar_style": "success",
      "description": "",
      "description_tooltip": null,
      "layout": "IPY_MODEL_31cf6cd6acab463bb87c7048d0ca0741",
      "max": 1,
      "min": 0,
      "orientation": "horizontal",
      "style": "IPY_MODEL_67455c9cdc4b49d9be2b7961f57c60bf",
      "value": 1
     }
    },
    "914ed4cc151f431fbc586fe369946ee2": {
     "model_module": "@jupyter-widgets/controls",
     "model_name": "HBoxModel",
     "state": {
      "_dom_classes": [],
      "_model_module": "@jupyter-widgets/controls",
      "_model_module_version": "1.5.0",
      "_model_name": "HBoxModel",
      "_view_count": null,
      "_view_module": "@jupyter-widgets/controls",
      "_view_module_version": "1.5.0",
      "_view_name": "HBoxView",
      "box_style": "",
      "children": [
       "IPY_MODEL_3a48c8d21a0144b2b683e7f0fbde4203",
       "IPY_MODEL_34d2dfdb8f8d4af6a99b37e361677ddf"
      ],
      "layout": "IPY_MODEL_53ef2dbc893d48038bfe0d57398e0bb1"
     }
    },
    "924bb36e4ad34949b2017b652f634139": {
     "model_module": "@jupyter-widgets/controls",
     "model_name": "DescriptionStyleModel",
     "state": {
      "_model_module": "@jupyter-widgets/controls",
      "_model_module_version": "1.5.0",
      "_model_name": "DescriptionStyleModel",
      "_view_count": null,
      "_view_module": "@jupyter-widgets/base",
      "_view_module_version": "1.2.0",
      "_view_name": "StyleView",
      "description_width": ""
     }
    },
    "a2093a620fff4293badd0bf205423e9d": {
     "model_module": "@jupyter-widgets/controls",
     "model_name": "DescriptionStyleModel",
     "state": {
      "_model_module": "@jupyter-widgets/controls",
      "_model_module_version": "1.5.0",
      "_model_name": "DescriptionStyleModel",
      "_view_count": null,
      "_view_module": "@jupyter-widgets/base",
      "_view_module_version": "1.2.0",
      "_view_name": "StyleView",
      "description_width": ""
     }
    },
    "a33028b388fb4641be3d8b9623d83458": {
     "model_module": "@jupyter-widgets/controls",
     "model_name": "HTMLModel",
     "state": {
      "_dom_classes": [],
      "_model_module": "@jupyter-widgets/controls",
      "_model_module_version": "1.5.0",
      "_model_name": "HTMLModel",
      "_view_count": null,
      "_view_module": "@jupyter-widgets/controls",
      "_view_module_version": "1.5.0",
      "_view_name": "HTMLView",
      "description": "",
      "description_tooltip": null,
      "layout": "IPY_MODEL_1ea440105c5548bbb6b2c919c3e680b2",
      "placeholder": "​",
      "style": "IPY_MODEL_a2093a620fff4293badd0bf205423e9d",
      "value": "26427392it [00:05, 5214368.96it/s]"
     }
    },
    "a8dd8a78c28b45fba264fc5f0a17390f": {
     "model_module": "@jupyter-widgets/controls",
     "model_name": "HTMLModel",
     "state": {
      "_dom_classes": [],
      "_model_module": "@jupyter-widgets/controls",
      "_model_module_version": "1.5.0",
      "_model_name": "HTMLModel",
      "_view_count": null,
      "_view_module": "@jupyter-widgets/controls",
      "_view_module_version": "1.5.0",
      "_view_name": "HTMLView",
      "description": "",
      "description_tooltip": null,
      "layout": "IPY_MODEL_0d8fb07b70d044cd8f5ee97e65d72520",
      "placeholder": "​",
      "style": "IPY_MODEL_bba9588b5d75477c9448e643aa12fd64",
      "value": "8192it [00:00, 12651.97it/s]"
     }
    },
    "b24ce17b0e034654a2492938787c6bcd": {
     "model_module": "@jupyter-widgets/controls",
     "model_name": "IntProgressModel",
     "state": {
      "_dom_classes": [],
      "_model_module": "@jupyter-widgets/controls",
      "_model_module_version": "1.5.0",
      "_model_name": "IntProgressModel",
      "_view_count": null,
      "_view_module": "@jupyter-widgets/controls",
      "_view_module_version": "1.5.0",
      "_view_name": "ProgressView",
      "bar_style": "success",
      "description": "",
      "description_tooltip": null,
      "layout": "IPY_MODEL_de8d5b12ba9841c4a4376b9d53c3cb79",
      "max": 1,
      "min": 0,
      "orientation": "horizontal",
      "style": "IPY_MODEL_5f7a9898a65a41a987f527fe59449fd6",
      "value": 1
     }
    },
    "bba9588b5d75477c9448e643aa12fd64": {
     "model_module": "@jupyter-widgets/controls",
     "model_name": "DescriptionStyleModel",
     "state": {
      "_model_module": "@jupyter-widgets/controls",
      "_model_module_version": "1.5.0",
      "_model_name": "DescriptionStyleModel",
      "_view_count": null,
      "_view_module": "@jupyter-widgets/base",
      "_view_module_version": "1.2.0",
      "_view_name": "StyleView",
      "description_width": ""
     }
    },
    "cac5e00230ed45d5b6a903e01a93197e": {
     "model_module": "@jupyter-widgets/controls",
     "model_name": "ProgressStyleModel",
     "state": {
      "_model_module": "@jupyter-widgets/controls",
      "_model_module_version": "1.5.0",
      "_model_name": "ProgressStyleModel",
      "_view_count": null,
      "_view_module": "@jupyter-widgets/base",
      "_view_module_version": "1.2.0",
      "_view_name": "StyleView",
      "bar_color": null,
      "description_width": ""
     }
    },
    "cbf3e159b8d14fa4a9b158505b48fb6d": {
     "model_module": "@jupyter-widgets/controls",
     "model_name": "ProgressStyleModel",
     "state": {
      "_model_module": "@jupyter-widgets/controls",
      "_model_module_version": "1.5.0",
      "_model_name": "ProgressStyleModel",
      "_view_count": null,
      "_view_module": "@jupyter-widgets/base",
      "_view_module_version": "1.2.0",
      "_view_name": "StyleView",
      "bar_color": null,
      "description_width": ""
     }
    },
    "db64f033ee554900943b6a2faced708f": {
     "model_module": "@jupyter-widgets/controls",
     "model_name": "DescriptionStyleModel",
     "state": {
      "_model_module": "@jupyter-widgets/controls",
      "_model_module_version": "1.5.0",
      "_model_name": "DescriptionStyleModel",
      "_view_count": null,
      "_view_module": "@jupyter-widgets/base",
      "_view_module_version": "1.2.0",
      "_view_name": "StyleView",
      "description_width": ""
     }
    },
    "de8d5b12ba9841c4a4376b9d53c3cb79": {
     "model_module": "@jupyter-widgets/base",
     "model_name": "LayoutModel",
     "state": {
      "_model_module": "@jupyter-widgets/base",
      "_model_module_version": "1.2.0",
      "_model_name": "LayoutModel",
      "_view_count": null,
      "_view_module": "@jupyter-widgets/base",
      "_view_module_version": "1.2.0",
      "_view_name": "LayoutView",
      "align_content": null,
      "align_items": null,
      "align_self": null,
      "border": null,
      "bottom": null,
      "display": null,
      "flex": null,
      "flex_flow": null,
      "grid_area": null,
      "grid_auto_columns": null,
      "grid_auto_flow": null,
      "grid_auto_rows": null,
      "grid_column": null,
      "grid_gap": null,
      "grid_row": null,
      "grid_template_areas": null,
      "grid_template_columns": null,
      "grid_template_rows": null,
      "height": null,
      "justify_content": null,
      "justify_items": null,
      "left": null,
      "margin": null,
      "max_height": null,
      "max_width": null,
      "min_height": null,
      "min_width": null,
      "object_fit": null,
      "object_position": null,
      "order": null,
      "overflow": null,
      "overflow_x": null,
      "overflow_y": null,
      "padding": null,
      "right": null,
      "top": null,
      "visibility": null,
      "width": null
     }
    },
    "f983f677700b4d39a6b1688f9fc7ec45": {
     "model_module": "@jupyter-widgets/base",
     "model_name": "LayoutModel",
     "state": {
      "_model_module": "@jupyter-widgets/base",
      "_model_module_version": "1.2.0",
      "_model_name": "LayoutModel",
      "_view_count": null,
      "_view_module": "@jupyter-widgets/base",
      "_view_module_version": "1.2.0",
      "_view_name": "LayoutView",
      "align_content": null,
      "align_items": null,
      "align_self": null,
      "border": null,
      "bottom": null,
      "display": null,
      "flex": null,
      "flex_flow": null,
      "grid_area": null,
      "grid_auto_columns": null,
      "grid_auto_flow": null,
      "grid_auto_rows": null,
      "grid_column": null,
      "grid_gap": null,
      "grid_row": null,
      "grid_template_areas": null,
      "grid_template_columns": null,
      "grid_template_rows": null,
      "height": null,
      "justify_content": null,
      "justify_items": null,
      "left": null,
      "margin": null,
      "max_height": null,
      "max_width": null,
      "min_height": null,
      "min_width": null,
      "object_fit": null,
      "object_position": null,
      "order": null,
      "overflow": null,
      "overflow_x": null,
      "overflow_y": null,
      "padding": null,
      "right": null,
      "top": null,
      "visibility": null,
      "width": null
     }
    },
    "ff50d7fa3da24cf99ad66e83f0225e7a": {
     "model_module": "@jupyter-widgets/controls",
     "model_name": "HBoxModel",
     "state": {
      "_dom_classes": [],
      "_model_module": "@jupyter-widgets/controls",
      "_model_module_version": "1.5.0",
      "_model_name": "HBoxModel",
      "_view_count": null,
      "_view_module": "@jupyter-widgets/controls",
      "_view_module_version": "1.5.0",
      "_view_name": "HBoxView",
      "box_style": "",
      "children": [
       "IPY_MODEL_b24ce17b0e034654a2492938787c6bcd",
       "IPY_MODEL_29079c6cc9b74153b2fa328860060e6d"
      ],
      "layout": "IPY_MODEL_698cf1a7202943b1bc92ee483202816c"
     }
    }
   }
  }
 },
 "nbformat": 4,
 "nbformat_minor": 4
}
