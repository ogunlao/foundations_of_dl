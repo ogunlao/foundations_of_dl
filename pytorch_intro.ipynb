{
 "cells": [
  {
   "cell_type": "code",
   "execution_count": 28,
   "metadata": {},
   "outputs": [],
   "source": [
    "import torch\n",
    "import numpy as np"
   ]
  },
  {
   "cell_type": "code",
   "execution_count": 3,
   "metadata": {},
   "outputs": [
    {
     "data": {
      "text/plain": [
       "'1.3.1+cpu'"
      ]
     },
     "execution_count": 3,
     "metadata": {},
     "output_type": "execute_result"
    }
   ],
   "source": [
    "torch.version.__version__"
   ]
  },
  {
   "cell_type": "code",
   "execution_count": 36,
   "metadata": {},
   "outputs": [
    {
     "data": {
      "text/plain": [
       "array([ 1,  2, 34,  5])"
      ]
     },
     "execution_count": 36,
     "metadata": {},
     "output_type": "execute_result"
    }
   ],
   "source": [
    "x = np.array([1, 2, 34, 5])\n",
    "x"
   ]
  },
  {
   "cell_type": "code",
   "execution_count": 38,
   "metadata": {},
   "outputs": [
    {
     "data": {
      "text/plain": [
       "False"
      ]
     },
     "execution_count": 38,
     "metadata": {},
     "output_type": "execute_result"
    }
   ],
   "source": [
    "torch.is_tensor(x)"
   ]
  },
  {
   "cell_type": "code",
   "execution_count": 6,
   "metadata": {},
   "outputs": [
    {
     "data": {
      "text/plain": [
       "False"
      ]
     },
     "execution_count": 6,
     "metadata": {},
     "output_type": "execute_result"
    }
   ],
   "source": [
    "torch.is_storage(x)"
   ]
  },
  {
   "cell_type": "code",
   "execution_count": 39,
   "metadata": {},
   "outputs": [
    {
     "data": {
      "text/plain": [
       "tensor([[ 0.0412, -0.8621, -1.3947],\n",
       "        [-0.1813, -0.8332, -0.8656]])"
      ]
     },
     "execution_count": 39,
     "metadata": {},
     "output_type": "execute_result"
    }
   ],
   "source": [
    "a = torch.randn((2,3), dtype=torch.float32)\n",
    "a"
   ]
  },
  {
   "cell_type": "code",
   "execution_count": 21,
   "metadata": {},
   "outputs": [
    {
     "data": {
      "text/plain": [
       "6"
      ]
     },
     "execution_count": 21,
     "metadata": {},
     "output_type": "execute_result"
    }
   ],
   "source": [
    "torch.numel(a)"
   ]
  },
  {
   "cell_type": "code",
   "execution_count": 22,
   "metadata": {},
   "outputs": [
    {
     "data": {
      "text/plain": [
       "False"
      ]
     },
     "execution_count": 22,
     "metadata": {},
     "output_type": "execute_result"
    }
   ],
   "source": [
    "torch.is_storage(a)"
   ]
  },
  {
   "cell_type": "code",
   "execution_count": 25,
   "metadata": {},
   "outputs": [
    {
     "data": {
      "text/plain": [
       "tensor([[1., 0., 0., 0., 0.],\n",
       "        [0., 1., 0., 0., 0.],\n",
       "        [0., 0., 1., 0., 0.],\n",
       "        [0., 0., 0., 1., 0.],\n",
       "        [0., 0., 0., 0., 1.]])"
      ]
     },
     "execution_count": 25,
     "metadata": {},
     "output_type": "execute_result"
    }
   ],
   "source": [
    "b = torch.eye(5,5)\n",
    "b"
   ]
  },
  {
   "cell_type": "code",
   "execution_count": 41,
   "metadata": {},
   "outputs": [
    {
     "data": {
      "text/plain": [
       "tensor([ 1,  2, 34,  5])"
      ]
     },
     "execution_count": 41,
     "metadata": {},
     "output_type": "execute_result"
    }
   ],
   "source": [
    "torch.from_numpy(x)"
   ]
  },
  {
   "cell_type": "code",
   "execution_count": 42,
   "metadata": {},
   "outputs": [
    {
     "data": {
      "text/plain": [
       "tensor([[-1.6583, -0.4947,  1.1452, -0.1542,  2.1103],\n",
       "        [ 0.1779, -0.0139,  0.6374, -0.0153, -0.3377],\n",
       "        [ 0.0682,  1.5135, -2.2416,  0.9912, -0.4521],\n",
       "        [ 0.2138, -0.2214,  0.5172, -0.7485,  2.5323]])"
      ]
     },
     "execution_count": 42,
     "metadata": {},
     "output_type": "execute_result"
    }
   ],
   "source": [
    "d = torch.randn(4,5)\n",
    "d"
   ]
  },
  {
   "cell_type": "code",
   "execution_count": 44,
   "metadata": {},
   "outputs": [
    {
     "data": {
      "text/plain": [
       "tensor([[4],\n",
       "        [2],\n",
       "        [1],\n",
       "        [4]])"
      ]
     },
     "execution_count": 44,
     "metadata": {},
     "output_type": "execute_result"
    }
   ],
   "source": [
    "torch.argmax(d, dim=1, keepdims=True)"
   ]
  },
  {
   "cell_type": "code",
   "execution_count": 48,
   "metadata": {},
   "outputs": [
    {
     "name": "stdout",
     "output_type": "stream",
     "text": [
      "tensor([2.1103, 0.6374, 1.5135, 2.5323])\n",
      "tensor([4, 2, 1, 4])\n"
     ]
    }
   ],
   "source": [
    "print(torch.max(d, dim=1).values)\n",
    "print(torch.max(d, dim=1).indices)"
   ]
  },
  {
   "cell_type": "code",
   "execution_count": 53,
   "metadata": {},
   "outputs": [
    {
     "data": {
      "text/plain": [
       "tensor([[-1.6583, -0.4947,  1.1452, -0.1542,  2.1103],\n",
       "        [ 0.1779, -0.0139,  0.6374, -0.0153, -0.3377],\n",
       "        [ 0.0682,  1.5135, -2.2416,  0.9912, -0.4521],\n",
       "        [ 0.2138, -0.2214,  0.5172, -0.7485,  2.5323],\n",
       "        [-1.6583, -0.4947,  1.1452, -0.1542,  2.1103],\n",
       "        [ 0.1779, -0.0139,  0.6374, -0.0153, -0.3377],\n",
       "        [ 0.0682,  1.5135, -2.2416,  0.9912, -0.4521],\n",
       "        [ 0.2138, -0.2214,  0.5172, -0.7485,  2.5323]])"
      ]
     },
     "execution_count": 53,
     "metadata": {},
     "output_type": "execute_result"
    }
   ],
   "source": [
    "c = torch.cat((d, d), axis=0)\n",
    "c"
   ]
  },
  {
   "cell_type": "code",
   "execution_count": 55,
   "metadata": {},
   "outputs": [
    {
     "data": {
      "text/plain": [
       "(tensor([[-1.6583, -0.4947,  1.1452, -0.1542,  2.1103],\n",
       "         [ 0.1779, -0.0139,  0.6374, -0.0153, -0.3377],\n",
       "         [ 0.0682,  1.5135, -2.2416,  0.9912, -0.4521]]),\n",
       " tensor([[ 0.2138, -0.2214,  0.5172, -0.7485,  2.5323],\n",
       "         [-1.6583, -0.4947,  1.1452, -0.1542,  2.1103],\n",
       "         [ 0.1779, -0.0139,  0.6374, -0.0153, -0.3377]]),\n",
       " tensor([[ 0.0682,  1.5135, -2.2416,  0.9912, -0.4521],\n",
       "         [ 0.2138, -0.2214,  0.5172, -0.7485,  2.5323]]))"
      ]
     },
     "execution_count": 55,
     "metadata": {},
     "output_type": "execute_result"
    }
   ],
   "source": [
    "torch.chunk(c, 3)"
   ]
  },
  {
   "cell_type": "code",
   "execution_count": 59,
   "metadata": {},
   "outputs": [
    {
     "data": {
      "text/plain": [
       "tensor([[2., 4.],\n",
       "        [5., 6.]])"
      ]
     },
     "execution_count": 59,
     "metadata": {},
     "output_type": "execute_result"
    }
   ],
   "source": [
    "f = torch.Tensor([[2, 4],\n",
    "              [5, 6]])\n",
    "f"
   ]
  },
  {
   "cell_type": "code",
   "execution_count": 61,
   "metadata": {},
   "outputs": [
    {
     "data": {
      "text/plain": [
       "True"
      ]
     },
     "execution_count": 61,
     "metadata": {},
     "output_type": "execute_result"
    }
   ],
   "source": [
    "torch.gather()"
   ]
  },
  {
   "cell_type": "code",
   "execution_count": 67,
   "metadata": {},
   "outputs": [
    {
     "data": {
      "text/plain": [
       "tensor([[1, 1],\n",
       "        [4, 4]])"
      ]
     },
     "execution_count": 67,
     "metadata": {},
     "output_type": "execute_result"
    }
   ],
   "source": [
    "t = torch.tensor([[1,2],[3,4]])\n",
    "torch.gather(t, 1, torch.LongTensor([[0,0],[1,1]]))\n",
    "#     tensor([[ 1,  1],\n",
    "#             [ 4,  3]])"
   ]
  },
  {
   "cell_type": "code",
   "execution_count": 66,
   "metadata": {},
   "outputs": [
    {
     "data": {
      "text/plain": [
       "tensor([[2, 4],\n",
       "        [5, 6]])"
      ]
     },
     "execution_count": 66,
     "metadata": {},
     "output_type": "execute_result"
    }
   ],
   "source": [
    "torch.LongTensor([[2, 4],\n",
    "                 [5, 6]])"
   ]
  },
  {
   "cell_type": "code",
   "execution_count": 68,
   "metadata": {},
   "outputs": [
    {
     "data": {
      "text/plain": [
       "array([[1, 2],\n",
       "       [3, 4]])"
      ]
     },
     "execution_count": 68,
     "metadata": {},
     "output_type": "execute_result"
    }
   ],
   "source": [
    "t.numpy()"
   ]
  },
  {
   "cell_type": "code",
   "execution_count": 79,
   "metadata": {},
   "outputs": [
    {
     "data": {
      "text/plain": [
       "tensor([5, 0])"
      ]
     },
     "execution_count": 79,
     "metadata": {},
     "output_type": "execute_result"
    }
   ],
   "source": [
    "torch.LongTensor([5.,00])"
   ]
  },
  {
   "cell_type": "code",
   "execution_count": 80,
   "metadata": {},
   "outputs": [
    {
     "data": {
      "text/plain": [
       "tensor([[-1.6583, -0.4947,  1.1452, -0.1542,  2.1103],\n",
       "        [ 0.1779, -0.0139,  0.6374, -0.0153, -0.3377],\n",
       "        [ 0.0682,  1.5135, -2.2416,  0.9912, -0.4521],\n",
       "        [ 0.2138, -0.2214,  0.5172, -0.7485,  2.5323]])"
      ]
     },
     "execution_count": 80,
     "metadata": {},
     "output_type": "execute_result"
    }
   ],
   "source": [
    "d"
   ]
  },
  {
   "cell_type": "code",
   "execution_count": 82,
   "metadata": {},
   "outputs": [
    {
     "data": {
      "text/plain": [
       "tensor([[-1.6583,  0.1779,  0.0682,  0.2138],\n",
       "        [-0.4947, -0.0139,  1.5135, -0.2214],\n",
       "        [ 1.1452,  0.6374, -2.2416,  0.5172],\n",
       "        [-0.1542, -0.0153,  0.9912, -0.7485],\n",
       "        [ 2.1103, -0.3377, -0.4521,  2.5323]])"
      ]
     },
     "execution_count": 82,
     "metadata": {},
     "output_type": "execute_result"
    }
   ],
   "source": [
    "d.t()"
   ]
  },
  {
   "cell_type": "code",
   "execution_count": 93,
   "metadata": {},
   "outputs": [
    {
     "data": {
      "text/plain": [
       "tensor([[True, True, True, True, True],\n",
       "        [True, True, True, True, True],\n",
       "        [True, True, True, True, True],\n",
       "        [True, True, True, True, True]])"
      ]
     },
     "execution_count": 93,
     "metadata": {},
     "output_type": "execute_result"
    }
   ],
   "source": [
    "d.transpose(1, 1) == d.transpose(0, 0)"
   ]
  },
  {
   "cell_type": "code",
   "execution_count": 104,
   "metadata": {},
   "outputs": [
    {
     "data": {
      "text/plain": [
       "(tensor([-1.6583, -0.4947,  1.1452, -0.1542,  2.1103]),\n",
       " tensor([ 0.1779, -0.0139,  0.6374, -0.0153, -0.3377]),\n",
       " tensor([ 0.0682,  1.5135, -2.2416,  0.9912, -0.4521]),\n",
       " tensor([ 0.2138, -0.2214,  0.5172, -0.7485,  2.5323]))"
      ]
     },
     "execution_count": 104,
     "metadata": {},
     "output_type": "execute_result"
    }
   ],
   "source": [
    "f = torch.unbind(d, 0)\n",
    "f"
   ]
  },
  {
   "cell_type": "code",
   "execution_count": 106,
   "metadata": {},
   "outputs": [
    {
     "data": {
      "text/plain": [
       "[array([-1.6582645 , -0.4946629 ,  1.1452267 , -0.15424214,  2.110283  ],\n",
       "       dtype=float32),\n",
       " array([ 0.17785655, -0.01392853,  0.6373539 , -0.01525345, -0.33765766],\n",
       "       dtype=float32),\n",
       " array([ 0.06821612,  1.5135193 , -2.2416096 ,  0.99123174, -0.45205608],\n",
       "       dtype=float32),\n",
       " array([ 0.21382846, -0.22142047,  0.5171621 , -0.7484755 ,  2.532313  ],\n",
       "       dtype=float32)]"
      ]
     },
     "execution_count": 106,
     "metadata": {},
     "output_type": "execute_result"
    }
   ],
   "source": [
    "[i.numpy() for i in f]"
   ]
  },
  {
   "cell_type": "code",
   "execution_count": 111,
   "metadata": {},
   "outputs": [
    {
     "data": {
      "text/plain": [
       "tensor([[-16.5826,  -4.9466,  11.4523,  -1.5424,  21.1028],\n",
       "        [  1.7786,  -0.1393,   6.3735,  -0.1525,  -3.3766],\n",
       "        [  0.6822,  15.1352, -22.4161,   9.9123,  -4.5206],\n",
       "        [  2.1383,  -2.2142,   5.1716,  -7.4848,  25.3231]])"
      ]
     },
     "execution_count": 111,
     "metadata": {},
     "output_type": "execute_result"
    }
   ],
   "source": [
    "torch.mul(d, 10)"
   ]
  },
  {
   "cell_type": "code",
   "execution_count": 114,
   "metadata": {},
   "outputs": [
    {
     "data": {
      "text/plain": [
       "tensor([[-0.1117, -0.4966,  0.1631, -0.8817,  0.0539],\n",
       "        [ 0.6684, -0.0597, -0.4675, -0.2153, -0.7141],\n",
       "        [-1.0831, -0.5547,  0.9717, -0.5150,  1.4255],\n",
       "        [ 0.7987, -1.4949,  1.4778, -0.1696, -0.9919],\n",
       "        [-1.4569,  0.2563, -0.4030,  0.4195,  0.9380]])"
      ]
     },
     "execution_count": 114,
     "metadata": {},
     "output_type": "execute_result"
    }
   ],
   "source": [
    "torch.manual_seed(1234)\n",
    "xy = torch.randn(5,5)\n",
    "xy"
   ]
  },
  {
   "cell_type": "code",
   "execution_count": 115,
   "metadata": {},
   "outputs": [
    {
     "data": {
      "text/plain": [
       "tensor([[-1., -1.,  0., -1.,  0.],\n",
       "        [ 0., -1., -1., -1., -1.],\n",
       "        [-2., -1.,  0., -1.,  1.],\n",
       "        [ 0., -2.,  1., -1., -1.],\n",
       "        [-2.,  0., -1.,  0.,  0.]])"
      ]
     },
     "execution_count": 115,
     "metadata": {},
     "output_type": "execute_result"
    }
   ],
   "source": [
    "torch.floor(xy)"
   ]
  },
  {
   "cell_type": "code",
   "execution_count": 119,
   "metadata": {},
   "outputs": [
    {
     "data": {
      "text/plain": [
       "tensor([[-0.1117, -0.4966,  0.1631, -0.8817,  0.0539],\n",
       "        [ 0.6684, -0.0597, -0.4675, -0.2153, -0.7141],\n",
       "        [-1.0000, -0.5547,  0.9717, -0.5150,  1.4255],\n",
       "        [ 0.7987, -1.0000,  1.4778, -0.1696, -0.9919],\n",
       "        [-1.0000,  0.2563, -0.4030,  0.4195,  0.9380]])"
      ]
     },
     "execution_count": 119,
     "metadata": {},
     "output_type": "execute_result"
    }
   ],
   "source": [
    "torch.clamp(xy, min=-1)"
   ]
  },
  {
   "cell_type": "code",
   "execution_count": 123,
   "metadata": {},
   "outputs": [],
   "source": [
    "exp_xy = torch.exp(xy)"
   ]
  },
  {
   "cell_type": "code",
   "execution_count": 122,
   "metadata": {},
   "outputs": [
    {
     "data": {
      "text/plain": [
       "tensor([[0.8943, 0.6086, 0.1771, 0.4141, 0.0554],\n",
       "        [0.9511, 0.9421, 0.6266, 0.8063, 0.4896],\n",
       "        [0.3385, 0.5742, 0.6424, 0.5975, 0.1600],\n",
       "        [0.2226, 0.2243, 0.3832, 0.8440, 0.3709],\n",
       "        [0.2330, 0.2921, 0.6683, 0.5212, 0.5549]])"
      ]
     },
     "execution_count": 122,
     "metadata": {},
     "output_type": "execute_result"
    }
   ],
   "source": [
    "torch.frac(torch.exp(xy))"
   ]
  },
  {
   "cell_type": "code",
   "execution_count": 124,
   "metadata": {},
   "outputs": [
    {
     "data": {
      "text/plain": [
       "tensor([[0.7098, 0.6476, 0.7644, 0.6021, 0.7418],\n",
       "        [0.8756, 0.7195, 0.6517, 0.6913, 0.6200],\n",
       "        [0.5838, 0.6397, 0.9335, 0.6451, 0.9846],\n",
       "        [0.9023, 0.5558, 0.9877, 0.6993, 0.5917],\n",
       "        [0.5580, 0.7845, 0.6611, 0.8207, 0.9279]])"
      ]
     },
     "execution_count": 124,
     "metadata": {},
     "output_type": "execute_result"
    }
   ],
   "source": [
    "torch.sigmoid(exp_xy, )"
   ]
  },
  {
   "cell_type": "code",
   "execution_count": 125,
   "metadata": {},
   "outputs": [
    {
     "data": {
      "text/plain": [
       "tensor([[0.9457, 0.7801, 1.0850, 0.6435, 1.0273],\n",
       "        [1.3968, 0.9706, 0.7916, 0.8980, 0.6997],\n",
       "        [0.5818, 0.7578, 1.6255, 0.7730, 2.0396],\n",
       "        [1.4908, 0.4736, 2.0936, 0.9187, 0.6090],\n",
       "        [0.4827, 1.1367, 0.8175, 1.2334, 1.5984]])"
      ]
     },
     "execution_count": 125,
     "metadata": {},
     "output_type": "execute_result"
    }
   ],
   "source": [
    "torch.sqrt(exp_xy)"
   ]
  },
  {
   "cell_type": "code",
   "execution_count": 127,
   "metadata": {},
   "outputs": [
    {
     "data": {
      "text/plain": [
       "tensor([[-0.1117, -0.4966,  0.1631, -0.8817],\n",
       "        [ 0.0539,  0.6684, -0.0597, -0.4675],\n",
       "        [-0.2153,  0.8840, -0.7584, -0.3689],\n",
       "        [-0.3424, -1.4020,  0.3206, -1.0219]])"
      ]
     },
     "execution_count": 127,
     "metadata": {},
     "output_type": "execute_result"
    }
   ],
   "source": [
    "torch.manual_seed(1234)\n",
    "torch.randn(4,4)"
   ]
  },
  {
   "cell_type": "code",
   "execution_count": 128,
   "metadata": {},
   "outputs": [
    {
     "data": {
      "text/plain": [
       "tensor([[0.2837, 0.6567, 0.2388, 0.7313],\n",
       "        [0.6012, 0.3043, 0.2548, 0.6294],\n",
       "        [0.9665, 0.7399, 0.4517, 0.4757],\n",
       "        [0.7842, 0.1525, 0.6662, 0.3343]])"
      ]
     },
     "execution_count": 128,
     "metadata": {},
     "output_type": "execute_result"
    }
   ],
   "source": [
    "torch.rand(4,4)"
   ]
  },
  {
   "cell_type": "code",
   "execution_count": 140,
   "metadata": {},
   "outputs": [
    {
     "data": {
      "text/plain": [
       "tensor([[0.0290, 0.4019, 0.2598, 0.3666],\n",
       "        [0.0583, 0.7006, 0.0518, 0.4681],\n",
       "        [0.6738, 0.3315, 0.7837, 0.5631],\n",
       "        [0.7749, 0.8208, 0.2793, 0.6817]])"
      ]
     },
     "execution_count": 140,
     "metadata": {},
     "output_type": "execute_result"
    }
   ],
   "source": [
    "torch.manual_seed(1234)\n",
    "torch.Tensor(4, 4).uniform_(0, 1)"
   ]
  },
  {
   "cell_type": "code",
   "execution_count": 160,
   "metadata": {},
   "outputs": [
    {
     "data": {
      "text/plain": [
       "Bernoulli(probs: tensor([0.6300]))"
      ]
     },
     "execution_count": 160,
     "metadata": {},
     "output_type": "execute_result"
    }
   ],
   "source": [
    "# Bernoulli Sampling\n",
    "samp = torch.distributions.Bernoulli(torch.Tensor([0.63]))\n",
    "# 0.63 % chance to be True\n",
    "samp"
   ]
  },
  {
   "cell_type": "code",
   "execution_count": 161,
   "metadata": {},
   "outputs": [
    {
     "name": "stdout",
     "output_type": "stream",
     "text": [
      "tensor([0.])\n",
      "tensor([0.])\n",
      "tensor([0.])\n",
      "tensor([1.])\n",
      "tensor([1.])\n",
      "tensor([1.])\n",
      "tensor([1.])\n",
      "tensor([1.])\n",
      "tensor([1.])\n",
      "tensor([1.])\n"
     ]
    }
   ],
   "source": [
    "for _ in range(10):\n",
    "    print(samp.sample())"
   ]
  },
  {
   "cell_type": "code",
   "execution_count": 168,
   "metadata": {},
   "outputs": [
    {
     "data": {
      "text/plain": [
       "tensor([1.])"
      ]
     },
     "execution_count": 168,
     "metadata": {},
     "output_type": "execute_result"
    }
   ],
   "source": [
    "torch.bernoulli(torch.Tensor([0.69]))"
   ]
  },
  {
   "cell_type": "code",
   "execution_count": 174,
   "metadata": {},
   "outputs": [
    {
     "data": {
      "text/plain": [
       "tensor([0.5440])"
      ]
     },
     "execution_count": 174,
     "metadata": {},
     "output_type": "execute_result"
    }
   ],
   "source": [
    "torch.normal(mean=0.5, std=torch.tensor([0.05]))"
   ]
  },
  {
   "cell_type": "code",
   "execution_count": null,
   "metadata": {},
   "outputs": [],
   "source": []
  },
  {
   "cell_type": "markdown",
   "metadata": {},
   "source": [
    "Autograd"
   ]
  },
  {
   "cell_type": "code",
   "execution_count": 187,
   "metadata": {},
   "outputs": [
    {
     "data": {
      "text/plain": [
       "tensor([[1., 1., 1.],\n",
       "        [1., 1., 1.],\n",
       "        [1., 1., 1.]], requires_grad=True)"
      ]
     },
     "execution_count": 187,
     "metadata": {},
     "output_type": "execute_result"
    }
   ],
   "source": [
    "torch.ones(3, 3, requires_grad=True)"
   ]
  },
  {
   "cell_type": "code",
   "execution_count": null,
   "metadata": {},
   "outputs": [],
   "source": []
  },
  {
   "cell_type": "code",
   "execution_count": 208,
   "metadata": {},
   "outputs": [
    {
     "name": "stdout",
     "output_type": "stream",
     "text": [
      "predict (before training) 4 tensor([4.], grad_fn=<MulBackward0>)\n"
     ]
    }
   ],
   "source": [
    "# Using forward pass\n",
    "def forward(x):\n",
    "    return x * w\n",
    "\n",
    "x_data = torch.tensor([11.0, 14.0, 33.0])\n",
    "y_data = torch.tensor([21.0, 22.0, 64.0])\n",
    "\n",
    "w = torch.tensor([1.0], requires_grad=True)\n",
    "\n",
    "# Before training\n",
    "print(\"predict (before training)\", 4, forward(4))"
   ]
  },
  {
   "cell_type": "code",
   "execution_count": 209,
   "metadata": {},
   "outputs": [
    {
     "data": {
      "text/plain": [
       "True"
      ]
     },
     "execution_count": 209,
     "metadata": {},
     "output_type": "execute_result"
    }
   ],
   "source": [
    "w.requires_grad"
   ]
  },
  {
   "cell_type": "code",
   "execution_count": 210,
   "metadata": {},
   "outputs": [],
   "source": [
    "# define the loss function\n",
    "def loss(x, y):\n",
    "    y_pred = forward(x)\n",
    "    return (y_pred - y)*(y_pred - y)"
   ]
  },
  {
   "cell_type": "code",
   "execution_count": 212,
   "metadata": {},
   "outputs": [
    {
     "name": "stdout",
     "output_type": "stream",
     "text": [
      "\tgrad:  tensor(11.) tensor(21.) tensor(-6.7247e+21)\n",
      "\tgrad:  tensor(14.) tensor(22.) tensor(-1.0629e+22)\n",
      "\tgrad:  tensor(33.) tensor(64.) tensor(-5.6743e+22)\n",
      "progress: 0 tensor(inf)\n",
      "\tgrad:  tensor(11.) tensor(21.) tensor(-4.9316e+21)\n",
      "\tgrad:  tensor(14.) tensor(22.) tensor(-7.7950e+21)\n",
      "\tgrad:  tensor(33.) tensor(64.) tensor(-4.1612e+22)\n",
      "progress: 1 tensor(inf)\n",
      "\tgrad:  tensor(11.) tensor(21.) tensor(-3.6166e+21)\n",
      "\tgrad:  tensor(14.) tensor(22.) tensor(-5.7165e+21)\n",
      "\tgrad:  tensor(33.) tensor(64.) tensor(-3.0516e+22)\n",
      "progress: 2 tensor(inf)\n",
      "\tgrad:  tensor(11.) tensor(21.) tensor(-2.6522e+21)\n",
      "\tgrad:  tensor(14.) tensor(22.) tensor(-4.1922e+21)\n",
      "\tgrad:  tensor(33.) tensor(64.) tensor(-2.2379e+22)\n",
      "progress: 3 tensor(inf)\n",
      "\tgrad:  tensor(11.) tensor(21.) tensor(-1.9450e+21)\n",
      "\tgrad:  tensor(14.) tensor(22.) tensor(-3.0743e+21)\n",
      "\tgrad:  tensor(33.) tensor(64.) tensor(-1.6412e+22)\n",
      "progress: 4 tensor(inf)\n",
      "\tgrad:  tensor(11.) tensor(21.) tensor(-1.4264e+21)\n",
      "\tgrad:  tensor(14.) tensor(22.) tensor(-2.2546e+21)\n",
      "\tgrad:  tensor(33.) tensor(64.) tensor(-1.2036e+22)\n",
      "progress: 5 tensor(inf)\n",
      "\tgrad:  tensor(11.) tensor(21.) tensor(-1.0460e+21)\n",
      "\tgrad:  tensor(14.) tensor(22.) tensor(-1.6534e+21)\n",
      "\tgrad:  tensor(33.) tensor(64.) tensor(-8.8263e+21)\n",
      "progress: 6 tensor(inf)\n",
      "\tgrad:  tensor(11.) tensor(21.) tensor(-7.6710e+20)\n",
      "\tgrad:  tensor(14.) tensor(22.) tensor(-1.2125e+21)\n",
      "\tgrad:  tensor(33.) tensor(64.) tensor(-6.4728e+21)\n",
      "progress: 7 tensor(inf)\n",
      "\tgrad:  tensor(11.) tensor(21.) tensor(-5.6256e+20)\n",
      "\tgrad:  tensor(14.) tensor(22.) tensor(-8.8920e+20)\n",
      "\tgrad:  tensor(33.) tensor(64.) tensor(-4.7468e+21)\n",
      "progress: 8 tensor(inf)\n",
      "\tgrad:  tensor(11.) tensor(21.) tensor(-4.1255e+20)\n",
      "\tgrad:  tensor(14.) tensor(22.) tensor(-6.5209e+20)\n",
      "\tgrad:  tensor(33.) tensor(64.) tensor(-3.4811e+21)\n",
      "progress: 9 tensor(inf)\n"
     ]
    }
   ],
   "source": [
    "# Run the training Loop\n",
    "for epoch in range(10):\n",
    "    for x_val, y_val in zip(x_data, y_data):\n",
    "        l = loss(x_val, y_val)\n",
    "        l.backward()\n",
    "        print(\"\\tgrad: \", x_val, y_val, w.grad.data[0])\n",
    "        w.data = w.data - 0.0001 * w.grad.data\n",
    "        \n",
    "        # Manually set the gradients to zero after updating weights\n",
    "        w.grad.data.zero_()\n",
    "    \n",
    "    print(\"progress:\", epoch, l.data[0])"
   ]
  },
  {
   "cell_type": "code",
   "execution_count": null,
   "metadata": {},
   "outputs": [],
   "source": []
  },
  {
   "cell_type": "code",
   "execution_count": 194,
   "metadata": {},
   "outputs": [
    {
     "name": "stdout",
     "output_type": "stream",
     "text": [
      "x\n",
      "data: 1.0\n",
      "requires_grad: True\n",
      "grad: None\n",
      "grad_fn: None\n",
      "is_leaf: True\n",
      "\n",
      "y\n",
      "data: 2.0\n",
      "requires_grad: False\n",
      "grad: None\n",
      "grad_fn: None\n",
      "is_leaf: True\n",
      "\n",
      "z\n",
      "data: 2.0\n",
      "requires_grad: True\n",
      "grad: None\n",
      "grad_fn: <MulBackward0 object at 0x7f1a14432550>\n",
      "is_leaf: False\n",
      "\n"
     ]
    }
   ],
   "source": [
    "# Creating the graph\n",
    "x = torch.tensor(1.0, requires_grad = True)\n",
    "y = torch.tensor(2.0)\n",
    "z = x * y\n",
    "\n",
    "# Displaying\n",
    "for i, name in zip([x, y, z], \"xyz\"):\n",
    "    print(f\"{name}\\ndata: {i.data}\\nrequires_grad: {i.requires_grad}\\n\\\n",
    "grad: {i.grad}\\ngrad_fn: {i.grad_fn}\\nis_leaf: {i.is_leaf}\\n\")"
   ]
  },
  {
   "cell_type": "code",
   "execution_count": 218,
   "metadata": {},
   "outputs": [],
   "source": [
    "a = torch.tensor([5.])\n",
    "\n",
    "weights = [torch.tensor([i], requires_grad=True) for i in (12., 53., 91., 73.)]\n",
    "\n",
    "w1, w2, w3, w4 = weights\n",
    "\n",
    "b = w1 * a\n",
    "c = w2 * a\n",
    "d = w3 * b + w4 * c\n",
    "Loss = (10 - d)\n",
    "\n",
    "Loss.backward()"
   ]
  },
  {
   "cell_type": "code",
   "execution_count": 219,
   "metadata": {},
   "outputs": [
    {
     "name": "stdout",
     "output_type": "stream",
     "text": [
      "Gradient of w1 w.r.t Loss: -455.0\n",
      "Gradient of w2 w.r.t Loss: -365.0\n",
      "Gradient of w3 w.r.t Loss: -60.0\n",
      "Gradient of w4 w.r.t Loss: -265.0\n"
     ]
    }
   ],
   "source": [
    "for index, weight in enumerate(weights, start=1):\n",
    "    gradient, *_ = weight.grad.data\n",
    "    print(f\"Gradient of w{index} w.r.t Loss: {gradient}\")"
   ]
  },
  {
   "cell_type": "code",
   "execution_count": null,
   "metadata": {},
   "outputs": [],
   "source": []
  }
 ],
 "metadata": {
  "kernelspec": {
   "display_name": "Python 3",
   "language": "python",
   "name": "python3"
  },
  "language_info": {
   "codemirror_mode": {
    "name": "ipython",
    "version": 3
   },
   "file_extension": ".py",
   "mimetype": "text/x-python",
   "name": "python",
   "nbconvert_exporter": "python",
   "pygments_lexer": "ipython3",
   "version": "3.7.3"
  }
 },
 "nbformat": 4,
 "nbformat_minor": 4
}
